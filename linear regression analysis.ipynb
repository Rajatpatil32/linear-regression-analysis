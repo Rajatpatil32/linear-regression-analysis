{
 "cells": [
  {
   "cell_type": "markdown",
   "metadata": {},
   "source": [
    "# scatter plot and correlation coefficient "
   ]
  },
  {
   "cell_type": "code",
   "execution_count": 42,
   "metadata": {},
   "outputs": [
    {
     "data": {
      "image/png": "[encoded data removed]",
      "text/plain": [
       "<Figure size 432x288 with 1 Axes>"
      ]
     },
     "metadata": {
      "needs_background": "light"
     },
     "output_type": "display_data"
    },
    {
     "name": "stdout",
     "output_type": "stream",
     "text": [
      "correlation coefficient = 0.9953243433267447\n"
     ]
    }
   ],
   "source": [
    "import numpy as np\n",
    "import matplotlib.pyplot as plt\n",
    "import csv\n",
    "def find_corr_x_y(x,y):\n",
    "    n = len(x)\n",
    "    # product sum\n",
    "    prod = []\n",
    "    for xi,yi in zip(x,y):\n",
    "        prod.append(xi*yi)\n",
    "    \n",
    "    sum_prod_x_y = sum(prod)\n",
    "    sum_x = sum(x)\n",
    "    sum_y = sum(y)\n",
    "    squared_sum_x = sum_x**2\n",
    "    squared_sum_y = sum_y**2\n",
    "    x_square = []\n",
    "    \n",
    "    for xi in x:\n",
    "        x_square.append(xi**2)\n",
    "    # Find the sum\n",
    "    x_square_sum = sum(x_square)\n",
    "    y_square=[]\n",
    "    \n",
    "    for yi in y:\n",
    "        y_square.append(yi**2)\n",
    "   \n",
    "    # sum\n",
    "    y_square_sum = sum(y_square)\n",
    "    \n",
    "    # calculating correlation\n",
    "    numerator = n*sum_prod_x_y - sum_x*sum_y\n",
    "    denominator_term1 = n*x_square_sum - squared_sum_x\n",
    "    denominator_term2 = n*y_square_sum - squared_sum_y\n",
    "    denominator = (denominator_term1*denominator_term2)**0.5\n",
    "    correlation = numerator/denominator\n",
    "\n",
    "    return correlation\n",
    "######################################scatter plot\n",
    "def scatter_plot(x, y):\n",
    "    plt.scatter(x, y)\n",
    "    plt.xlabel('Number')\n",
    "    plt.ylabel('Square')\n",
    "    plt.show()\n",
    "    ############################3reading file\n",
    "def read_csv(filename):\n",
    "    numbers = []\n",
    "    squared = []\n",
    "    with open(filename) as f:\n",
    "        reader = csv.reader(f)\n",
    "        next(reader)\n",
    "        for row in reader:\n",
    "            numbers.append(int(row[0]))\n",
    "            squared.append(int(row[1]))\n",
    "        return numbers, squared\n",
    "if __name__ == '__main__':\n",
    "    numbers, squared = read_csv(r\"C:\\Users\\ddel\\dataset.csv\")\n",
    "    scatter_plot(numbers, squared)\n",
    "    print(\"correlation coefficient =\",find_corr_x_y(x,y))"
   ]
  },
  {
   "cell_type": "markdown",
   "metadata": {},
   "source": [
    "# β1 & β2 calculation"
   ]
  },
  {
   "cell_type": "code",
   "execution_count": 47,
   "metadata": {},
   "outputs": [
    {
     "name": "stdout",
     "output_type": "stream",
     "text": [
      "β1 = 1.0384413539753345\n",
      "β2 = 1.6849908160587752\n"
     ]
    }
   ],
   "source": [
    "num = 0\n",
    "den = 0\n",
    "m_x = np.mean(x)\n",
    "m_y = np.mean(y)\n",
    "for i in range(len(x)):\n",
    "    num = num + (x[i] - m_x )*(y[i] - m_y)\n",
    "    den = den + (x[i] - m_x)**2\n",
    "beta_1 = num/den\n",
    "beta_0 = m_y - beta_1*m_x\n",
    "print(\"\\u03B21 =\",beta_1)\n",
    "print(\"\\u03B22 =\",beta_0)"
   ]
  },
  {
   "cell_type": "markdown",
   "metadata": {},
   "source": [
    "# y_pridection"
   ]
  },
  {
   "cell_type": "code",
   "execution_count": 50,
   "metadata": {},
   "outputs": [
    {
     "name": "stdout",
     "output_type": "stream",
     "text": [
      "y_predicted are may be = [0.9582838418370047, 2.9494245540758985, 3.9449949101953456, 5.936135622434239, 78.61277161915388]\n"
     ]
    }
   ],
   "source": [
    "beta_1 = 0.995570356119447\n",
    "beta_0 = -0.03728651428244234\n",
    "Y_pred = []\n",
    "for i in range(len(x)):\n",
    "    Y_pred.append(beta_1 * x[i] + beta_0)\n",
    "print(\"y_predicted are may be =\",Y_pred)"
   ]
  },
  {
   "cell_type": "markdown",
   "metadata": {},
   "source": [
    "# fitting the model"
   ]
  },
  {
   "cell_type": "code",
   "execution_count": 52,
   "metadata": {},
   "outputs": [
    {
     "data": {
      "image/png": "[encoded data removed]",
      "text/plain": [
       "<Figure size 432x288 with 1 Axes>"
      ]
     },
     "metadata": {
      "needs_background": "light"
     },
     "output_type": "display_data"
    }
   ],
   "source": [
    "plt.scatter(x , y  , label = \"data points\")\n",
    "plt.plot([min(x) , max(x)] , [min(Y_pred) , max(Y_pred)] , color = \"red\" , label = \"Fitted line\")\n",
    "plt.xlabel(\"This is X\")\n",
    "plt.ylabel(\"This is Y\")\n",
    "plt.legend()\n",
    "plt.show()"
   ]
  },
  {
   "cell_type": "markdown",
   "metadata": {},
   "source": [
    "# residual calculation"
   ]
  },
  {
   "cell_type": "code",
   "execution_count": 71,
   "metadata": {},
   "outputs": [
    {
     "name": "stdout",
     "output_type": "stream",
     "text": [
      "SS residual is = 86.59108031060116 \n",
      "R_square is = 0.9826052470247888\n"
     ]
    }
   ],
   "source": [
    "def r_square(x,y):\n",
    "    m_y = np.mean(y)\n",
    "    n = len(y)\n",
    "    Y = np.array(y)\n",
    "    error = Y - Y_pred\n",
    "    SS_res = np.sum(error**2)\n",
    "    SS_total = np.sum((Y - m_y)**2)\n",
    "    R_square = 1-(SS_res/SS_total)\n",
    "    return print(\"SS residual is = {0} \\nR_square is = {1}\".format(SS_res,R_square))\n",
    "r_square(x,y)"
   ]
  },
  {
   "cell_type": "markdown",
   "metadata": {},
   "source": [
    "# anova table for observation"
   ]
  },
  {
   "cell_type": "code",
   "execution_count": 79,
   "metadata": {},
   "outputs": [],
   "source": [
    "DF_REG = 1\n",
    "DF_RES = len(x) - 2 \n",
    "DF_TOT = len(x) - 1\n",
    "############################################Sum of square\n",
    "m_y = np.mean(y)\n",
    "n = len(y)\n",
    "Y = np.array(y)\n",
    "error = Y - Y_pred\n",
    "################################################## SS Residual \n",
    "SS_res = np.sum(error**2)\n",
    "################################################### SS Regression\n",
    "SS_Reg = np.sum((Y_pred - m_y)**2)\n",
    "# ####################################################SS Total\n",
    "SS_total = np.sum((Y - m_y)**2)\n",
    "############################################### MS Residual\n",
    "MS_Res = SS_res/DF_RES\n",
    "############################################## S Regression\n",
    "MS_Reg = SS_Reg/DF_REG\n",
    "############################################ F Statistics\n",
    "F = MS_Reg/MS_Res"
   ]
  },
  {
   "cell_type": "code",
   "execution_count": 77,
   "metadata": {},
   "outputs": [],
   "source": [
    "def anova_table():\n",
    "    print('{0}\\t\\t{1}\\t\\t{2}\\t\\t\\t{3}\\t\\t\\t{4}'.format( \"Sources\",\"DF  \" , \"SS\" , \"MS\" , \"F statistics\"))\n",
    "    print('{0}\\t{1}\\t{2}\\t{3}\\t\\t{4}'.format( \"Regression\" ,DF_REG , SS_Reg , MS_Reg , F))\n",
    "    print('{0}\\t{1}\\t{2}\\t{3}'.format(\"Residual\",DF_RES , SS_res , MS_Res))\n",
    "    print('{0}\\t\\t{1}\\t{2}'.format(\"Total\",  DF_TOT , SS_total ))"
   ]
  },
  {
   "cell_type": "code",
   "execution_count": 78,
   "metadata": {},
   "outputs": [
    {
     "name": "stdout",
     "output_type": "stream",
     "text": [
      "Sources\t\tDF  \t\tSS\t\t\tMS\t\t\tF statistics\n",
      "Regression\t1\t4564.518322733109\t4564.518322733109\t\t158.14047958612724\n",
      "Residual\t3\t86.59108031060116\t28.863693436867052\n",
      "Total\t\t4\t4978.0\n"
     ]
    }
   ],
   "source": [
    "anova_table()"
   ]
  }
 ],
 "metadata": {
  "kernelspec": {
   "display_name": "Python 3",
   "language": "python",
   "name": "python3"
  },
  "language_info": {
   "codemirror_mode": {
    "name": "ipython",
    "version": 3
   },
   "file_extension": ".py",
   "mimetype": "text/x-python",
   "name": "python",
   "nbconvert_exporter": "python",
   "pygments_lexer": "ipython3",
   "version": "3.8.3"
  }
 },
 "nbformat": 4,
 "nbformat_minor": 4
}
